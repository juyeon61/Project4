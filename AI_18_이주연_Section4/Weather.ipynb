{
 "cells": [
  {
   "attachments": {},
   "cell_type": "markdown",
   "metadata": {},
   "source": [
    "## 기상청_지상(종관, ASOS) 일자료 조회서비스\n",
    "\n",
    "* https://www.data.go.kr/data/15059093/openapi.do"
   ]
  },
  {
   "cell_type": "code",
   "execution_count": 5,
   "metadata": {},
   "outputs": [
    {
     "name": "stdout",
     "output_type": "stream",
     "text": [
      "{'stnNm': '세종', 'tm': '2020-01-01', 'avgTa': '-1.6', 'minTa': '-8.6', 'maxTa': '4.0', 'sumRn': 0, 'avgWs': '0.8', 'hr24SumRws': '653', 'avgRhm': '65.0', 'avgPv': '3.6', 'ddMefs': 0, 'avgTs': '-0.7'}\n",
      "{'stnNm': '세종', 'tm': '2020-01-02', 'avgTa': '0.7', 'minTa': '-3.1', 'maxTa': '4.4', 'sumRn': 0, 'avgWs': '0.6', 'hr24SumRws': '540', 'avgRhm': '74.3', 'avgPv': '4.7', 'ddMefs': 0, 'avgTs': '-0.4'}\n",
      "{'stnNm': '세종', 'tm': '2020-01-03', 'avgTa': '1.3', 'minTa': '-1.9', 'maxTa': '6.5', 'sumRn': 0, 'avgWs': '1.0', 'hr24SumRws': '861', 'avgRhm': '71.1', 'avgPv': '4.7', 'ddMefs': 0, 'avgTs': '1.7'}\n",
      "{'stnNm': '세종', 'tm': '2020-01-04', 'avgTa': '0.2', 'minTa': '-4.6', 'maxTa': '7.4', 'sumRn': 0, 'avgWs': '0.8', 'hr24SumRws': '694', 'avgRhm': '69.1', 'avgPv': '4.2', 'ddMefs': 0, 'avgTs': '-0.1'}\n",
      "{'stnNm': '세종', 'tm': '2020-01-05', 'avgTa': '0.6', 'minTa': '-5.4', 'maxTa': '6.5', 'sumRn': 0, 'avgWs': '0.6', 'hr24SumRws': '502', 'avgRhm': '58.4', 'avgPv': '3.5', 'ddMefs': 0, 'avgTs': '-0.1'}\n",
      "{'stnNm': '세종', 'tm': '2020-01-06', 'avgTa': '2.4', 'minTa': '-0.6', 'maxTa': '4.7', 'sumRn': '11.8', 'avgWs': '1.1', 'hr24SumRws': '939', 'avgRhm': '83.6', 'avgPv': '6.2', 'ddMefs': 0, 'avgTs': '1.6'}\n",
      "{'stnNm': '세종', 'tm': '2020-01-07', 'avgTa': '8.2', 'minTa': '4.6', 'maxTa': '14.3', 'sumRn': '63.3', 'avgWs': '1.3', 'hr24SumRws': '1100', 'avgRhm': '95.6', 'avgPv': '10.5', 'ddMefs': 0, 'avgTs': '6.8'}\n",
      "{'stnNm': '세종', 'tm': '2020-01-08', 'avgTa': '3.9', 'minTa': '2.1', 'maxTa': '10.8', 'sumRn': '2.8', 'avgWs': '2.3', 'hr24SumRws': '1954', 'avgRhm': '85.8', 'avgPv': '7.0', 'ddMefs': 0, 'avgTs': '4.8'}\n",
      "{'stnNm': '세종', 'tm': '2020-01-09', 'avgTa': '0.9', 'minTa': '-2.3', 'maxTa': '4.9', 'sumRn': 0, 'avgWs': '1.3', 'hr24SumRws': '1127', 'avgRhm': '66.8', 'avgPv': '4.3', 'ddMefs': 0, 'avgTs': '2.3'}\n",
      "{'stnNm': '세종', 'tm': '2020-01-10', 'avgTa': '-0.3', 'minTa': '-4.3', 'maxTa': '5.7', 'sumRn': 0, 'avgWs': '0.6', 'hr24SumRws': '546', 'avgRhm': '72.8', 'avgPv': '4.2', 'ddMefs': 0, 'avgTs': '1.2'}\n"
     ]
    }
   ],
   "source": [
    "import requests\n",
    "from xml.etree import ElementTree\n",
    "\n",
    "skey = \"ZuBqZjyJe/E7XpQz6gTx8hPJT3+BZX2AL5MgHPaZlC/aZsqAQC2ktJmQS0nbzjkjJ9iPav+4cmDMfWO4GnSBsQ==\"\n",
    "\n",
    "url = 'http://apis.data.go.kr/1360000/AsosDalyInfoService/getWthrDataList'\n",
    "params ={'serviceKey' : skey,\n",
    "         'pageNo' : '1',\n",
    "         'numOfRows' : '10',\n",
    "         'dataType' : 'xml',\n",
    "         'dataCd' : 'ASOS',\n",
    "         'dateCd' : 'DAY',\n",
    "         'startDt' : '20200101',\n",
    "         'endDt' : '20200131',\n",
    "         'stnIds' : '239' }\n",
    "\n",
    "response = requests.get(url, params=params)\n",
    "\n",
    "root =  ElementTree.fromstring(response.content)\n",
    "\n",
    "for item in root.iter('item'):\n",
    "    item_dict={}\n",
    "    item_dict['stnNm'] = item.find('stnNm').text # 지역 이름\n",
    "    item_dict['tm'] = item.find('tm').text # 날짜\n",
    "    item_dict['avgTa'] = item.find('avgTa').text # 평균 기온\n",
    "    item_dict['minTa'] = item.find('minTa').text # 최저 기온\n",
    "    item_dict['maxTa'] = item.find('maxTa').text # 최고 기온\n",
    "    item_dict['sumRn'] = item.find('sumRn').text if item.find('sumRn').text else 0 # 일 강수량\n",
    "    item_dict['avgWs'] = item.find('avgWs').text # 평균 풍속\n",
    "    item_dict['hr24SumRws'] = item.find('hr24SumRws').text # 풍정합\n",
    "    item_dict['avgRhm'] = item.find('avgRhm').text # 평균 상대습도\n",
    "    item_dict['avgPv'] = item.find('avgPv').text # 평균 증기압\n",
    "    item_dict['ddMefs'] = item.find('ddMefs').text if item.find('ddMefs').text else 0 # 일 최심신적설\n",
    "    item_dict['avgTs'] = item.find('avgTs').text # 평균 지면온도\n",
    "    print(item_dict)"
   ]
  },
  {
   "attachments": {},
   "cell_type": "markdown",
   "metadata": {},
   "source": [
    "## 기상청_지상기상월보 조회서비스\n",
    "* https://www.data.go.kr/iim/api/selectAPIAcountView.do"
   ]
  },
  {
   "cell_type": "code",
   "execution_count": 37,
   "metadata": {},
   "outputs": [],
   "source": [
    "skey = \"ZuBqZjyJe/E7XpQz6gTx8hPJT3+BZX2AL5MgHPaZlC/aZsqAQC2ktJmQS0nbzjkjJ9iPav+4cmDMfWO4GnSBsQ==\"\n",
    "\n",
    "url = 'http://apis.data.go.kr/1360000/SfcMtlyInfoService/getMmSumry'\n",
    "params ={'serviceKey' : skey,\n",
    "         'pageNo' : '1',\n",
    "         'numOfRows' : '10',\n",
    "         'dataType' : 'xml',\n",
    "         'year' : '2020',\n",
    "         'month' : '01'}\n",
    "\n",
    "# response = requests.get(url, params=params)\n",
    "# root =  ElementTree.fromstring(response.content)\n",
    "\n",
    "years = ['2020', '2021', '2022']\n",
    "months = ['01', '02', '03', '04', '05', '06', '07', '08', '09', '10', '11', '12']\n",
    "\n",
    "weather = []\n",
    "for nyeon in years:\n",
    "    for dal in months:\n",
    "        params['year'] = nyeon\n",
    "        params['month'] = dal\n",
    "\n",
    "        response = requests.get(url, params=params)\n",
    "        root =  ElementTree.fromstring(response.content)\n",
    "\n",
    "        for item in root.iter('info'):\n",
    "            if item.find('stnko').text == '세종':\n",
    "                item_dict={}\n",
    "                item_dict['month'] = f\"{nyeon}-{dal}-01\"\n",
    "                item_dict['stnko'] = item.find('stnko').text # 지역명(국문)\n",
    "                item_dict['pa'] = item.find('pa').text # 평균 현지기압(hPa)\n",
    "                item_dict['avgtamax'] = item.find('avgtamax').text # 최고기온의 평균(℃)\n",
    "                item_dict['avgtamin'] = item.find('avgtamin').text # 최저기온의 평균(℃) \n",
    "                item_dict['taavg'] = item.find('taavg').text # 평균 기온(℃)\n",
    "                item_dict['avghm'] = item.find('avghm').text # 평균상대습도(%)\n",
    "                item_dict['sumssday'] = item.find('sumssday').text # 일조 총 시간(hr)\n",
    "                item_dict['daydur'] = item.find('daydur').text # 일조-일조율(%)\n",
    "                weather.append(item_dict)\n",
    "            else:\n",
    "                pass"
   ]
  },
  {
   "cell_type": "code",
   "execution_count": 38,
   "metadata": {},
   "outputs": [
    {
     "name": "stdout",
     "output_type": "stream",
     "text": [
      "{'month': '2020-04-01', 'stnko': '세종', 'pa': '1006.5', 'avgtamax': '17.9', 'avgtamin': '4.3', 'taavg': '10.8', 'avghm': '48', 'sumssday': '279.6', 'daydur': '71'}\n",
      "{'month': '2020-05-01', 'stnko': '세종', 'pa': '999.6', 'avgtamax': '24.0', 'avgtamin': '13.0', 'taavg': '18.2', 'avghm': '67', 'sumssday': '213.7', 'daydur': '49'}\n",
      "{'month': '2020-06-01', 'stnko': '세종', 'pa': '995.8', 'avgtamax': '28.5', 'avgtamin': '18.9', 'taavg': '23.2', 'avghm': '72', 'sumssday': '208.3', 'daydur': '48'}\n",
      "{'month': '2020-07-01', 'stnko': '세종', 'pa': '996.2', 'avgtamax': '27.1', 'avgtamin': '20.1', 'taavg': '23.2', 'avghm': '82', 'sumssday': '86.3', 'daydur': '19'}\n",
      "{'month': '2020-08-01', 'stnko': '세종', 'pa': '998.3', 'avgtamax': '31.0', 'avgtamin': '23.9', 'taavg': '26.8', 'avghm': '83', 'sumssday': '152.8', 'daydur': '37'}\n",
      "{'month': '2020-09-01', 'stnko': '세종', 'pa': '1001.4', 'avgtamax': '25.4', 'avgtamin': '16.8', 'taavg': '20.5', 'avghm': '75', 'sumssday': '171.7', 'daydur': '46'}\n",
      "{'month': '2020-10-01', 'stnko': '세종', 'pa': '1009.9', 'avgtamax': '19.8', 'avgtamin': '8.2', 'taavg': '13.4', 'avghm': '67', 'sumssday': '204.5', 'daydur': '59'}\n",
      "{'month': '2020-11-01', 'stnko': '세종', 'pa': '1014.1', 'avgtamax': '13.4', 'avgtamin': '3.3', 'taavg': '8.0', 'avghm': '64', 'sumssday': '157.2', 'daydur': '51'}\n",
      "{'month': '2020-12-01', 'stnko': '세종', 'pa': '1015.4', 'avgtamax': '5.0', 'avgtamin': '-4.3', 'taavg': '-0.1', 'avghm': '60', 'sumssday': '167.7', 'daydur': '56'}\n",
      "{'month': '2021-01-01', 'stnko': '세종', 'pa': '1013.5', 'avgtamax': '3.3', 'avgtamin': '-6.6', 'taavg': '-1.7', 'avghm': '62', 'sumssday': '166.4', 'daydur': '54'}\n",
      "{'month': '2021-02-01', 'stnko': '세종', 'pa': '1010.4', 'avgtamax': '9.0', 'avgtamin': '-2.2', 'taavg': '3.2', 'avghm': '53', 'sumssday': '186.0', 'daydur': '61'}\n",
      "{'month': '2021-03-01', 'stnko': '세종', 'pa': '1008.7', 'avgtamax': '15.1', 'avgtamin': '3.2', 'taavg': '8.8', 'avghm': '61', 'sumssday': '192.0', 'daydur': '52'}\n",
      "{'month': '2021-04-01', 'stnko': '세종', 'pa': '1007.5', 'avgtamax': '20.1', 'avgtamin': '8.1', 'taavg': '13.9', 'avghm': '51', 'sumssday': '212.5', 'daydur': '54'}\n",
      "{'month': '2021-05-01', 'stnko': '세종', 'pa': '998.7', 'avgtamax': '22.4', 'avgtamin': '11.7', 'taavg': '16.8', 'avghm': '67', 'sumssday': '198.6', 'daydur': '45'}\n",
      "{'month': '2021-06-01', 'stnko': '세종', 'pa': '997.3', 'avgtamax': '27.8', 'avgtamin': '18.2', 'taavg': '22.6', 'avghm': '71', 'sumssday': '211.5', 'daydur': '48'}\n",
      "{'month': '2021-07-01', 'stnko': '세종', 'pa': '997.8', 'avgtamax': '31.7', 'avgtamin': '23.0', 'taavg': '26.9', 'avghm': '73', 'sumssday': '228.5', 'daydur': '51'}\n",
      "{'month': '2021-08-01', 'stnko': '세종', 'pa': '998.2', 'avgtamax': '29.5', 'avgtamin': '21.8', 'taavg': '25.1', 'avghm': '77', 'sumssday': '148.1', 'daydur': '35'}\n",
      "{'month': '2021-09-01', 'stnko': '세종', 'pa': '1003.0', 'avgtamax': '26.4', 'avgtamin': '18.2', 'taavg': '21.8', 'avghm': '75', 'sumssday': '148.7', 'daydur': '40'}\n",
      "{'month': '2021-10-01', 'stnko': '세종', 'pa': '1010.6', 'avgtamax': '21.0', 'avgtamin': '10.3', 'taavg': '15.0', 'avghm': '75', 'sumssday': '170.4', 'daydur': '49'}\n",
      "{'month': '2021-11-01', 'stnko': '세종', 'pa': '1009.1', 'avgtamax': '14.3', 'avgtamin': '3.3', 'taavg': '8.2', 'avghm': '71', 'sumssday': '162.0', 'daydur': '53'}\n",
      "{'month': '2021-12-01', 'stnko': '세종', 'pa': '1014.2', 'avgtamax': '6.4', 'avgtamin': '-3.4', 'taavg': '1.2', 'avghm': '66', 'sumssday': '154.3', 'daydur': '51'}\n",
      "{'month': '2022-01-01', 'stnko': '세종', 'pa': '1013.9', 'avgtamax': '4.2', 'avgtamin': '-6.6', 'taavg': '-1.4', 'avghm': '55', 'sumssday': '196.6', 'daydur': '64'}\n",
      "{'month': '2022-02-01', 'stnko': '세종', 'pa': '1014.8', 'avgtamax': '5.2', 'avgtamin': '-5.6', 'taavg': '-0.4', 'avghm': '50', 'sumssday': '204.9', 'daydur': '68'}\n",
      "{'month': '2022-03-01', 'stnko': '세종', 'pa': '1006.7', 'avgtamax': '13.9', 'avgtamin': '1.9', 'taavg': '7.7', 'avghm': '60', 'sumssday': '165.6', 'daydur': '45'}\n",
      "{'month': '2022-04-01', 'stnko': '세종', 'pa': '1006.4', 'avgtamax': '21.6', 'avgtamin': '7.7', 'taavg': '14.2', 'avghm': '55', 'sumssday': '241.9', 'daydur': '64'}\n",
      "{'month': '2022-05-01', 'stnko': '세종', 'pa': '1002.1', 'avgtamax': '25.3', 'avgtamin': '11.7', 'taavg': '18.4', 'avghm': '52', 'sumssday': '301.1', 'daydur': '71'}\n",
      "{'month': '2022-06-01', 'stnko': '세종', 'pa': '997.0', 'avgtamax': '28.7', 'avgtamin': '19.0', 'taavg': '23.3', 'avghm': '69', 'sumssday': '182.5', 'daydur': '42'}\n",
      "{'month': '2022-07-01', 'stnko': '세종', 'pa': '995.5', 'avgtamax': '30.9', 'avgtamin': '22.9', 'taavg': '26.4', 'avghm': '79', 'sumssday': '184.3', 'daydur': '41'}\n",
      "{'month': '2022-08-01', 'stnko': '세종', 'pa': '997.0', 'avgtamax': '29.2', 'avgtamin': '22.3', 'taavg': '25.3', 'avghm': '82', 'sumssday': '134.2', 'daydur': '32'}\n",
      "{'month': '2022-09-01', 'stnko': '세종', 'pa': '1002.6', 'avgtamax': '27.2', 'avgtamin': '17.3', 'taavg': '21.8', 'avghm': '70', 'sumssday': '170.9', 'daydur': '47'}\n",
      "{'month': '2022-10-01', 'stnko': '세종', 'pa': '1011.1', 'avgtamax': '20.0', 'avgtamin': '9.0', 'taavg': '13.9', 'avghm': '70', 'sumssday': '201.6', 'daydur': '58'}\n",
      "{'month': '2022-11-01', 'stnko': '세종', 'pa': '1010.8', 'avgtamax': '16.1', 'avgtamin': '3.9', 'taavg': '9.4', 'avghm': '65', 'sumssday': '171.8', 'daydur': '56'}\n",
      "{'month': '2022-12-01', 'stnko': '세종', 'pa': '1014.0', 'avgtamax': '2.6', 'avgtamin': '-6.7', 'taavg': '-2.4', 'avghm': '64', 'sumssday': '153.5', 'daydur': '51'}\n"
     ]
    }
   ],
   "source": [
    "for i in weather:\n",
    "    print(i)"
   ]
  }
 ],
 "metadata": {
  "kernelspec": {
   "display_name": "base",
   "language": "python",
   "name": "python3"
  },
  "language_info": {
   "codemirror_mode": {
    "name": "ipython",
    "version": 3
   },
   "file_extension": ".py",
   "mimetype": "text/x-python",
   "name": "python",
   "nbconvert_exporter": "python",
   "pygments_lexer": "ipython3",
   "version": "3.10.9"
  },
  "orig_nbformat": 4
 },
 "nbformat": 4,
 "nbformat_minor": 2
}
